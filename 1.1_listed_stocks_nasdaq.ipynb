{
 "cells": [
  {
   "cell_type": "code",
   "execution_count": null,
   "metadata": {},
   "outputs": [],
   "source": [
    "import requests\n",
    "import pandas as pd\n",
    "import json"
   ]
  },
  {
   "cell_type": "code",
   "execution_count": null,
   "metadata": {},
   "outputs": [
    {
     "name": "stdout",
     "output_type": "stream",
     "text": [
      "nasdaq-listed.csv and nasdaq-listed-symbols.csv saved.\n"
     ]
    }
   ],
   "source": [
    "NASDAQ_URL = 'https://www.nasdaqtrader.com/dynamic/symdir/nasdaqlisted.txt'\n",
    "\n",
    "def fetch_nasdaq_data():\n",
    "    resp = requests.get(NASDAQ_URL)\n",
    "    data = resp.text.split('\\n')\n",
    "    data = [row.split('|') for row in data]\n",
    "    df = pd.DataFrame(data[1:], columns=data[0])\n",
    "    \n",
    "    # Cleaning\n",
    "    df.columns = df.columns.str.replace('\\r', '', regex=False)\n",
    "    df = df.map(lambda x: x.replace('\\r', '') if isinstance(x, str) else x)\n",
    "    \n",
    "    return df\n",
    "\n",
    "def transform_nasdaq_listed_symbol(df):\n",
    "    # nasdaq_listed.csv\n",
    "    nasdaq_listed = df[['Symbol', 'Security Name']]\n",
    "    nasdaq_listed.to_csv('nasdaq-listed_17_02_2025.csv', index=False)\n",
    "    \n",
    "    # nasdaq_listed_symbol.csv\n",
    "    nasdaq_listed_symbol = df.copy()\n",
    "    nasdaq_listed_symbol['Company Name'] = nasdaq_listed_symbol['Security Name'].str.split(' - ').str[0]\n",
    "    last_col = nasdaq_listed_symbol.pop(nasdaq_listed_symbol.columns[-1])\n",
    "    nasdaq_listed_symbol.insert(1, last_col.name, last_col)\n",
    "    nasdaq_listed_symbol.to_csv('nasdaq-listed-symbols_17_02_2025.csv', index=False)\n",
    "\n",
    "def transform_nasdaq_listed_to_json(df):\n",
    "    # Extracting and filtering tickers\n",
    "    nasdaq_tickers = df['Symbol'].dropna().tolist()\n",
    "    nasdaq_tickers = [ticker for ticker in nasdaq_tickers if ticker.isalpha()]\n",
    "\n",
    "    with open(\"nasdaq_tickers_17_02_2025.json\", \"w\") as file:\n",
    "        json.dump(nasdaq_tickers, file, indent=4)\n",
    "\n",
    "if __name__ == '__main__':\n",
    "    df = fetch_nasdaq_data()\n",
    "    transform_nasdaq_listed_symbol(df)\n",
    "    transform_nasdaq_listed_to_json(df)"
   ]
  },
  {
   "cell_type": "markdown",
   "metadata": {},
   "source": [
    "License: This Data Package is licensed by its maintainers under the Public Domain Dedication and License (PDDL).\n",
    "Refer to the Copyright notice of the source dataset for any specific restrictions on using these data in a public or commercial product. Copyright © 2010, The NASDAQ OMX Group, Inc. All rights reserved."
   ]
  }
 ],
 "metadata": {
  "kernelspec": {
   "display_name": "Python 3",
   "language": "python",
   "name": "python3"
  },
  "language_info": {
   "codemirror_mode": {
    "name": "ipython",
    "version": 3
   },
   "file_extension": ".py",
   "mimetype": "text/x-python",
   "name": "python",
   "nbconvert_exporter": "python",
   "pygments_lexer": "ipython3",
   "version": "3.11.2"
  }
 },
 "nbformat": 4,
 "nbformat_minor": 2
}
